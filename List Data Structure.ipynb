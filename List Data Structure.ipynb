{
 "cells": [
  {
   "cell_type": "code",
   "execution_count": 1,
   "id": "3ba29cd8",
   "metadata": {},
   "outputs": [],
   "source": [
    "# List ia ordered collection of items or data \n",
    "# List is a Mutable type data structure \n",
    "# We can use index for operations\n",
    "# List will contains compound data types such as int,float,str\n",
    "# We can delete or add item in a list by using index "
   ]
  },
  {
   "cell_type": "code",
   "execution_count": 3,
   "id": "29a47298",
   "metadata": {},
   "outputs": [
    {
     "name": "stdout",
     "output_type": "stream",
     "text": [
      "[1, 2, 3, 4, 5]\n",
      "[1.1, 2.2, 3.3, 4.4, 5.5]\n",
      "['hello', 'hey', 'what']\n",
      "['hello', 1, 9.45]\n"
     ]
    }
   ],
   "source": [
    "my_list = [1,2,3,4,5] # items in a list is separated by a coma ,\n",
    "print(my_list)\n",
    "\n",
    "my_list1 = [1.1,2.2,3.3,4.4,5.5]\n",
    "print(my_list1)\n",
    "\n",
    "my_list2 = [\"hello\",\"hey\",\"what\"]\n",
    "print(my_list2)\n",
    "\n",
    "my_list3 = [\"hello\",1,9.45]\n",
    "print(my_list3)\n",
    "\n"
   ]
  },
  {
   "cell_type": "code",
   "execution_count": 4,
   "id": "17fe873d",
   "metadata": {},
   "outputs": [
    {
     "name": "stdout",
     "output_type": "stream",
     "text": [
      "[1, 2, 3, 4, 5, 6]\n"
     ]
    }
   ],
   "source": [
    "my_list = [1,2,3,4,5]\n",
    "my_list.append(6)                # Append fuction adds an item in the end of a particular list\n",
    "print(my_list)"
   ]
  },
  {
   "cell_type": "code",
   "execution_count": 11,
   "id": "f13a0a42",
   "metadata": {},
   "outputs": [
    {
     "name": "stdout",
     "output_type": "stream",
     "text": [
      "[1, 2, 3, 4, 5, 6, 7]\n"
     ]
    }
   ],
   "source": [
    "my_list = [1,2,3,4,5,7]\n",
    "my_list.insert(5,6)                # Insert method adds an item in the specific position in list \n",
    "                                   #list.insert(x,y) where x- the indexing position example index positions 0,1,2 or -1\n",
    "                                   #  y- the item or data to insert example 1,2.2,\"hey\"\n",
    "print(my_list)"
   ]
  },
  {
   "cell_type": "code",
   "execution_count": 22,
   "id": "b17510b3",
   "metadata": {},
   "outputs": [
    {
     "name": "stdout",
     "output_type": "stream",
     "text": [
      "['geeks', 'for', 'geeks', [6, 0, 4, 1]]\n"
     ]
    }
   ],
   "source": [
    "my_list = ['geeks', 'for', 'geeks'] #Python’s append() function inserts a single element into an existing list. \n",
    "my_list.append(another_list)        #The element will be added to the end of the old list rather than being returned to a new list\n",
    "another_list = [6, 0, 4, 1]         #Adds its argument as a single element to the end of a list.  \n",
    "print (my_list)                      #The length of the list increases by one. "
   ]
  },
  {
   "cell_type": "code",
   "execution_count": 26,
   "id": "78cc4c7e",
   "metadata": {},
   "outputs": [
    {
     "name": "stdout",
     "output_type": "stream",
     "text": [
      "['geeks', 'for', 6, 0, 4, 1]\n"
     ]
    }
   ],
   "source": [
    "my_list = ['geeks', 'for']      #The Python’s List extend() Iterates over its argument and adding each element to the list and extending the list. \n",
    "another_list = [6, 0, 4, 1]     #The length of the list increases by a number of elements in its argument.\n",
    "my_list.extend(another_list)\n",
    "print (my_list)"
   ]
  },
  {
   "cell_type": "code",
   "execution_count": 27,
   "id": "211d3ef1",
   "metadata": {},
   "outputs": [
    {
     "name": "stdout",
     "output_type": "stream",
     "text": [
      "['geeks', 'for', 6, 0, 4, 1, 'g', 'e', 'e', 'k', 's']\n"
     ]
    }
   ],
   "source": [
    "my_list = ['geeks', 'for', 6, 0, 4, 1]  # A string is iterable, so if you extend a list with a string, you’ll append each character as you iterate over the string. \n",
    "my_list.extend('geeks')  \n",
    "print (my_list)"
   ]
  },
  {
   "cell_type": "code",
   "execution_count": 14,
   "id": "22b9a2c8",
   "metadata": {},
   "outputs": [
    {
     "name": "stdout",
     "output_type": "stream",
     "text": [
      "['hello', 'Bharath']\n",
      "How are you\n"
     ]
    }
   ],
   "source": [
    "my_list = [\"hello\",\"Bharath\",\"How are you\"]\n",
    "a=my_list.pop() \n",
    "                                    # Pop function or method removes the last item in a list and gives that value\n",
    "print(my_list)\n",
    "print(a)"
   ]
  },
  {
   "cell_type": "code",
   "execution_count": 7,
   "id": "5dec67b4",
   "metadata": {},
   "outputs": [
    {
     "name": "stdout",
     "output_type": "stream",
     "text": [
      "['hello', 'How are you']\n"
     ]
    }
   ],
   "source": [
    "my_list = [\"hello\",\"Bharath\",\"How are you\"]\n",
    "my_list.remove('Bharath')                              # remove function or method removes the specified () item in a list\n",
    "print(my_list)"
   ]
  },
  {
   "cell_type": "code",
   "execution_count": 28,
   "id": "ed0cb08d",
   "metadata": {},
   "outputs": [
    {
     "name": "stdout",
     "output_type": "stream",
     "text": [
      "[]\n"
     ]
    }
   ],
   "source": [
    "my_list = [1,2,3.3,\"Hello\",\"This ia a list\"]\n",
    "my_list.clear()\n",
    "print(my_list)"
   ]
  },
  {
   "cell_type": "code",
   "execution_count": 35,
   "id": "5c88bf85",
   "metadata": {},
   "outputs": [
    {
     "ename": "NameError",
     "evalue": "name 'my_list' is not defined",
     "output_type": "error",
     "traceback": [
      "\u001b[1;31m---------------------------------------------------------------------------\u001b[0m",
      "\u001b[1;31mNameError\u001b[0m                                 Traceback (most recent call last)",
      "Cell \u001b[1;32mIn[35], line 3\u001b[0m\n\u001b[0;32m      1\u001b[0m my_list \u001b[38;5;241m=\u001b[39m [\u001b[38;5;241m1\u001b[39m,\u001b[38;5;241m2\u001b[39m,\u001b[38;5;241m3.3\u001b[39m,\u001b[38;5;124m\"\u001b[39m\u001b[38;5;124mHello\u001b[39m\u001b[38;5;124m\"\u001b[39m,\u001b[38;5;124m\"\u001b[39m\u001b[38;5;124mThis ia a list\u001b[39m\u001b[38;5;124m\"\u001b[39m]\n\u001b[0;32m      2\u001b[0m \u001b[38;5;28;01mdel\u001b[39;00m my_list\n\u001b[1;32m----> 3\u001b[0m \u001b[38;5;28mprint\u001b[39m(my_list)\n",
      "\u001b[1;31mNameError\u001b[0m: name 'my_list' is not defined"
     ]
    }
   ],
   "source": [
    "my_list = [1,2,3.3,\"Hello\",\"This ia a list\"] # delete method deltes items of a list as well as list  \n",
    "del my_list                                  # so it produces output as a list not defined\n",
    "print(my_list)"
   ]
  },
  {
   "cell_type": "code",
   "execution_count": 36,
   "id": "3676884c",
   "metadata": {},
   "outputs": [
    {
     "name": "stdout",
     "output_type": "stream",
     "text": [
      "[]\n"
     ]
    }
   ],
   "source": [
    "my_list = [1,2,3.3,\"Hello\",\"This ia a list\"] # ls.clear() method clear items in the list and provides output as a empty list\n",
    "my_list.clear()\n",
    "print(my_list)"
   ]
  },
  {
   "cell_type": "code",
   "execution_count": 38,
   "id": "2ae0dfed",
   "metadata": {},
   "outputs": [
    {
     "name": "stdout",
     "output_type": "stream",
     "text": [
      "[1, 2, 3, 4, 5, 6, 7, 8, 9]\n",
      "[9, 8, 7, 6, 5, 4, 3, 2, 1]\n"
     ]
    }
   ],
   "source": [
    "my_list = [1,3,4,6,7,8,9,2,5] # sort method is used to sort items in a list \"ascending order\"\n",
    "my_list.sort()\n",
    "print(my_list)\n",
    "\n",
    "my_list.reverse()             # reverse method is used to reverse items in a list\n",
    "print(my_list)\n"
   ]
  },
  {
   "cell_type": "code",
   "execution_count": 48,
   "id": "e91d209e",
   "metadata": {},
   "outputs": [
    {
     "name": "stdout",
     "output_type": "stream",
     "text": [
      "[100, 54, 33, 22, 11, 10, 8, 7, 3]\n"
     ]
    }
   ],
   "source": [
    "# a list of numbers\n",
    "my_numbers = [10, 8, 3, 22, 33, 7, 11, 100, 54] #\n",
    "\n",
    "#sort list in-place in descending order\n",
    "my_numbers.sort(reverse=True)\n",
    "\n",
    "#print modified list\n",
    "print(my_numbers)\n",
    "\n",
    "#output\n",
    "\n",
    "#[100, 54, 33, 22, 11, 10, 8, 7, 3]"
   ]
  },
  {
   "cell_type": "code",
   "execution_count": 40,
   "id": "68a864a8",
   "metadata": {},
   "outputs": [
    {
     "name": "stdout",
     "output_type": "stream",
     "text": [
      "3\n"
     ]
    }
   ],
   "source": [
    "my_list = [1,3,4,6,7,8,9,2,5,6,6,2]  # count method Return the number of times x appears in the list.\n",
    "print(my_list.count(6))\n",
    "\n"
   ]
  },
  {
   "cell_type": "code",
   "execution_count": 41,
   "id": "ed85cbd6",
   "metadata": {},
   "outputs": [
    {
     "name": "stdout",
     "output_type": "stream",
     "text": [
      "[1, 3, 4, 6, 7, 8, 9, 2, 5, 6, 6, 2]\n"
     ]
    }
   ],
   "source": [
    "my_list = [1,3,4,6,7,8,9,2,5,6,6,2]  # Return a shallow copy of the list.\n",
    "my_list1=my_list.copy()\n",
    "print(my_list1)"
   ]
  },
  {
   "cell_type": "code",
   "execution_count": 45,
   "id": "da2ca286",
   "metadata": {},
   "outputs": [
    {
     "name": "stdout",
     "output_type": "stream",
     "text": [
      "2\n"
     ]
    }
   ],
   "source": [
    "my_list = [\"banana\",\"apple\",\"mango\",\"grapes\"]  # index method provides index of a item in a list\n",
    "print(my_list.index(\"mango\"))                  # ls.index(x),x is a item which index you want"
   ]
  },
  {
   "cell_type": "code",
   "execution_count": 46,
   "id": "e55720ab",
   "metadata": {},
   "outputs": [
    {
     "name": "stdout",
     "output_type": "stream",
     "text": [
      "4\n"
     ]
    }
   ],
   "source": [
    "my_list = [\"banana\",\"apple\",\"mango\",\"grapes\"] # len(x) method is used to get the length of a list \n",
    "print(len(my_list))"
   ]
  },
  {
   "cell_type": "code",
   "execution_count": 63,
   "id": "956584ad",
   "metadata": {
    "scrolled": true
   },
   "outputs": [
    {
     "name": "stdout",
     "output_type": "stream",
     "text": [
      "['banana', 'grapes', 'apple', 'guava', 'mango']\n",
      "banana\n",
      "mango\n",
      "['banana', 'grapes', 'apple', 'guava', 'mango']\n",
      "['grapes', 'apple']\n",
      "mango\n"
     ]
    }
   ],
   "source": [
    "fruits = [\"banana\",\"grapes\",\"apple\",\"guava\",\"mango\"]   # sequence[start_index:end_index]\n",
    "print(fruits)\n",
    "print(fruits[0])\n",
    "print(fruits[4])\n",
    "print(fruits[0:])\n",
    "print(fruits[1:3])\n",
    "print(fruits[-1]) # -1 refers to last item in a list -2 refers to 2nd item in a list from backwards\n",
    "\n"
   ]
  },
  {
   "cell_type": "code",
   "execution_count": 60,
   "id": "7b09f7a9",
   "metadata": {},
   "outputs": [
    {
     "name": "stdout",
     "output_type": "stream",
     "text": [
      "['banana', 'grapes', 'apple', 'guava', 'mango', ['chillies', 'tamota', 'brinjal'], [1, 3, 5]]\n",
      "['chillies', 'tamota', 'brinjal']\n",
      "chillies\n"
     ]
    }
   ],
   "source": [
    "fruits = [\"banana\",\"grapes\",\"apple\",\"guava\",\"mango\",[\"chillies\",\"tamota\",\"brinjal\"],[1,3,5]] #nested list\n",
    "print(fruits)\n",
    "print(fruits[5]) # item in a list with index 5\n",
    "print(fruits[5][0]) # syntax to get a item in a nested list lst[index of a nested list][index of item in a nested list]"
   ]
  },
  {
   "cell_type": "code",
   "execution_count": 62,
   "id": "39c45d3b",
   "metadata": {},
   "outputs": [
    {
     "name": "stdout",
     "output_type": "stream",
     "text": [
      "['banana', 'grapes', 'apple', 'guava', 'mango']\n",
      "['sapota', 'grapes', 'apple', 'guava', 'mango']\n"
     ]
    }
   ],
   "source": [
    "# list are mutable so we can change the item in a list once we assigned\n",
    "fruits = [\"banana\",\"grapes\",\"apple\",\"guava\",\"mango\"]\n",
    "print(fruits)\n",
    "fruits[0]=\"sapota\"\n",
    "print(fruits)"
   ]
  },
  {
   "cell_type": "code",
   "execution_count": 64,
   "id": "b552e41d",
   "metadata": {},
   "outputs": [
    {
     "name": "stdout",
     "output_type": "stream",
     "text": [
      "[4, 9, 16, 25, 36]\n"
     ]
    }
   ],
   "source": [
    "my_list = [4,9,16,25]\n",
    "my_list.append(6**2)\n",
    "print(my_list)"
   ]
  },
  {
   "cell_type": "code",
   "execution_count": 69,
   "id": "ad68ebe1",
   "metadata": {},
   "outputs": [
    {
     "name": "stdout",
     "output_type": "stream",
     "text": [
      "[4, 9, 16, 25, 36, 49, 64, 91]\n"
     ]
    }
   ],
   "source": [
    "my_list = [4,9,16,25]                   \n",
    "my_list1 = [36,49,64,91]\n",
    "print(my_list + my_list1)\n"
   ]
  },
  {
   "cell_type": "code",
   "execution_count": null,
   "id": "0d70649f",
   "metadata": {},
   "outputs": [],
   "source": []
  }
 ],
 "metadata": {
  "kernelspec": {
   "display_name": "Python 3 (ipykernel)",
   "language": "python",
   "name": "python3"
  },
  "language_info": {
   "codemirror_mode": {
    "name": "ipython",
    "version": 3
   },
   "file_extension": ".py",
   "mimetype": "text/x-python",
   "name": "python",
   "nbconvert_exporter": "python",
   "pygments_lexer": "ipython3",
   "version": "3.11.3"
  }
 },
 "nbformat": 4,
 "nbformat_minor": 5
}
